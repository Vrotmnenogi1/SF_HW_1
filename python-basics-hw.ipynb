{
 "cells": [
  {
   "cell_type": "markdown",
   "metadata": {},
   "source": [
    "**Задание 1**. Даны 2 строки: *long_phrase* и *short_phrase*. \n",
    "Напишите код, который проверяет действительно ли длинная фраза *long_phrase* длиннее короткой *short_phrase*. И выводит *True* или *False* в зависимости от результата сравнения."
   ]
  },
  {
   "cell_type": "code",
   "execution_count": null,
   "metadata": {},
   "outputs": [],
   "source": [
    "long_phrase = 'Насколько проще было бы писать программы, если бы не заказчики'\n",
    "short_phrase = '640Кб должно хватить для любых задач. Билл Гейтс (по легенде)'"
   ]
  },
  {
   "cell_type": "code",
   "execution_count": null,
   "metadata": {},
   "outputs": [],
   "source": []
  },
  {
   "cell_type": "markdown",
   "metadata": {},
   "source": [
    "**Задание 2**. Дано значение объема файла в байтах. Напишите перевод этого значения в мегабайты в формате: \"*Объем файла равен 213.68Mb*\""
   ]
  },
  {
   "cell_type": "code",
   "execution_count": 5,
   "metadata": {},
   "outputs": [
    {
     "name": "stdout",
     "output_type": "stream",
     "text": [
      "Введите месяц: 3\n",
      "3\n"
     ]
    }
   ],
   "source": []
  },
  {
   "cell_type": "markdown",
   "metadata": {},
   "source": [
    "**Задание 3**. Разработать приложение для определения знака зодиака по дате рождения. Пример:\n",
    "\n",
    "Введите месяц: март\n",
    "\n",
    "Введите число: 6\n",
    "\n",
    "Вывод:\n",
    "Рыбы"
   ]
  },
  {
   "cell_type": "code",
   "execution_count": 26,
   "metadata": {},
   "outputs": [
    {
     "name": "stdout",
     "output_type": "stream",
     "text": [
      "Введите месяц: 7\n",
      "Введите день: 15\n",
      "Рак\n"
     ]
    }
   ],
   "source": [
    "mm = int(input('Введите месяц: '))\n",
    "dd = int(input('Введите день: '))\n",
    "\n",
    "if (mm == 1 and dd <=20) or (mm == 12 and dd >=22):\n",
    "    print('Козерог')\n",
    "elif (mm == 2 and dd <=18) or (mm == 1 and dd >=21):\n",
    "    print('Водолей')\n",
    "elif (mm == 3 and dd <=20) or (mm == 2 and dd >=19):\n",
    "    print('Рыбы')\n",
    "elif (mm == 4 and dd <=20) or (mm == 3 and dd >=21):\n",
    "    print('Овен')\n",
    "elif (mm == 5 and dd <=20) or (mm == 4 and dd >=21):\n",
    "    print('Телец')\n",
    "elif (mm == 6 and dd <=21) or (mm == 5 and dd >=21):\n",
    "    print('Близнецы')\n",
    "elif (mm == 7 and dd <=22) or (mm == 6 and dd >=22):\n",
    "    print('Рак')\n",
    "elif (mm == 8 and dd <=23) or (mm == 7 and dd >=23):\n",
    "    print('Лев')\n",
    "elif (mm == 9 and dd <=23) or (mm == 8 and dd >=24):\n",
    "    print('Дева')\n",
    "elif (mm == 10 and dd <=23) or (mm == 9 and dd >=24):\n",
    "    print('Весы')\n",
    "elif (mm == 11 and dd <=22) or (mm == 10 and dd >=24):\n",
    "    print('Скорпион')\n",
    "elif (mm == 12 and dd <=22) or (mm == 11 and dd >=23):\n",
    "    print('Стрелец')\n",
    "else: print('Вы указали неверную дату')\n",
    "          "
   ]
  },
  {
   "cell_type": "markdown",
   "metadata": {},
   "source": [
    "**Задание 4**. Нужно разработать приложение для финансового планирования.\n",
    "Приложение учитывает сколько уходит на ипотеку, \"на жизнь\" и сколько нужно отложить на пенсию.\n",
    "Пользователь вводит:\n",
    "- заработанную плату в месяц.\n",
    "- сколько процентов от ЗП уходит на ипотеку.\n",
    "- сколько процентов от ЗП уходит \"на жизнь\".\n",
    "- сколько раз приходит премия в год.\n",
    "\n",
    "Остальная часть заработанной платы откладывается на пенсию.\n",
    "\n",
    "Также пользователю приходит премия в размере зарплаты, от которой половина уходит на отпуск, а вторая половина откладывается.\n",
    "\n",
    "Программа должна учитывать сколько премий было в год.\n",
    "\n",
    "Нужно вывести сколько денег тратит пользователь на ипотеку и сколько он накопит за год.\n",
    "\n",
    "Пример:\n",
    "\n",
    "Введите заработанную плату в месяц: 100000\n",
    "\n",
    "Введите сколько процентов уходит на ипотеку: 30\n",
    "\n",
    "Введите сколько процентов уходит на жизнь: 50\n",
    "\n",
    "Введите количество премий за год: 2\n",
    "\n",
    "Вывод:\n",
    "На ипотеку было потрачено: 360000 рублей\n",
    "Было накоплено: 340000 рублей"
   ]
  },
  {
   "cell_type": "code",
   "execution_count": null,
   "metadata": {},
   "outputs": [],
   "source": []
  },
  {
   "cell_type": "markdown",
   "metadata": {},
   "source": [
    "# Доп. задание 1. Fizz and Buzz"
   ]
  },
  {
   "cell_type": "code",
   "execution_count": 65,
   "metadata": {},
   "outputs": [
    {
     "name": "stdout",
     "output_type": "stream",
     "text": [
      "Введите количество элементов: 12\n",
      "1\n",
      "2\n",
      "Fizz\n",
      "4\n",
      "Buzz\n",
      "Fizz\n",
      "7\n",
      "8\n",
      "Fizz\n",
      "Buzz\n",
      "11\n",
      "Fizz\n"
     ]
    }
   ],
   "source": [
    "a = 0\n",
    "n = int(input('Введите количество элементов: '))\n",
    "while a < n:\n",
    "    a = a+1\n",
    "    if a % 3 == 0 and a % 5 == 0: \n",
    "        print('Fizz Buzz')\n",
    "    elif a % 3 == 0:\n",
    "        print ('Fizz')\n",
    "    elif a % 5 == 0:\n",
    "        print('Buzz')\n",
    "    else: print(a)\n",
    "\n",
    "    \n",
    " \n",
    "\n",
    "\n"
   ]
  },
  {
   "cell_type": "markdown",
   "metadata": {},
   "source": [
    "# Доп. задание 3"
   ]
  },
  {
   "cell_type": "code",
   "execution_count": 93,
   "metadata": {},
   "outputs": [
    {
     "name": "stdout",
     "output_type": "stream",
     "text": [
      "123456\n",
      "3 4\n"
     ]
    }
   ],
   "source": [
    "word = input()\n",
    "\n",
    "if len(word) % 2 == 0:\n",
    "    print(word[len(word)//2-1], word[len(word)//2])\n",
    "else: \n",
    "    print(word[len(word)//2])\n"
   ]
  },
  {
   "cell_type": "markdown",
   "metadata": {},
   "source": [
    "# Доп. задание 2"
   ]
  },
  {
   "cell_type": "code",
   "execution_count": 185,
   "metadata": {},
   "outputs": [
    {
     "ename": "SyntaxError",
     "evalue": "invalid syntax (<ipython-input-185-fe0c049a2b1e>, line 2)",
     "output_type": "error",
     "traceback": [
      "\u001b[1;36m  File \u001b[1;32m\"<ipython-input-185-fe0c049a2b1e>\"\u001b[1;36m, line \u001b[1;32m2\u001b[0m\n\u001b[1;33m    a=\u001b[0m\n\u001b[1;37m      ^\u001b[0m\n\u001b[1;31mSyntaxError\u001b[0m\u001b[1;31m:\u001b[0m invalid syntax\n"
     ]
    }
   ],
   "source": [
    "a = str(1011101110111011101110111011001)\n",
    "\n",
    "i=3\n",
    "\n",
    "while i < len(a):\n",
    "    b=int(a[0:i])\n",
    "    if int(a) % b == 0: \n",
    "        print (a[0:i])\n",
    "        break\n",
    "    else: \n",
    "\n",
    "        i=i+1\n",
    "        \n",
    "print(a)"
   ]
  },
  {
   "cell_type": "code",
   "execution_count": 167,
   "metadata": {},
   "outputs": [
    {
     "name": "stdout",
     "output_type": "stream",
     "text": [
      "101110111011310111011101131011101110113101110111011310111011101131011101110113101110111011310111011101131011101110113\n"
     ]
    }
   ],
   "source": [
    "a=a*3\n",
    "print(a)"
   ]
  },
  {
   "cell_type": "code",
   "execution_count": 161,
   "metadata": {},
   "outputs": [
    {
     "name": "stdout",
     "output_type": "stream",
     "text": [
      "10\n",
      "1011101110111011101110111011101110111011\n"
     ]
    }
   ],
   "source": [
    "\n",
    "        \n",
    "        \n",
    "b=int(a[0:2])\n",
    "print(b)\n",
    "int(a)\n",
    "print(a)\n"
   ]
  }
 ],
 "metadata": {
  "kernelspec": {
   "display_name": "Python 3",
   "language": "python",
   "name": "python3"
  },
  "language_info": {
   "codemirror_mode": {
    "name": "ipython",
    "version": 3
   },
   "file_extension": ".py",
   "mimetype": "text/x-python",
   "name": "python",
   "nbconvert_exporter": "python",
   "pygments_lexer": "ipython3",
   "version": "3.7.4"
  }
 },
 "nbformat": 4,
 "nbformat_minor": 2
}
