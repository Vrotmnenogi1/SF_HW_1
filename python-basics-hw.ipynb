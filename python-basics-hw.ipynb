{
 "cells": [
  {
   "cell_type": "markdown",
   "metadata": {},
   "source": [
    "**Задание 1**. Даны 2 строки: *long_phrase* и *short_phrase*. \n",
    "Напишите код, который проверяет действительно ли длинная фраза *long_phrase* длиннее короткой *short_phrase*. И выводит *True* или *False* в зависимости от результата сравнения."
   ]
  },
  {
   "cell_type": "code",
   "execution_count": 3,
   "metadata": {},
   "outputs": [
    {
     "data": {
      "text/plain": [
       "True"
      ]
     },
     "execution_count": 3,
     "metadata": {},
     "output_type": "execute_result"
    }
   ],
   "source": [
    "long_phrase = 'Насколько проще было бы писать программы, если бы не заказчики'\n",
    "short_phrase = '640Кб должно хватить для любых задач. Билл Гейтс (по легенде)'\n"
   ]
  },
  {
   "cell_type": "code",
   "execution_count": 4,
   "metadata": {},
   "outputs": [
    {
     "data": {
      "text/plain": [
       "True"
      ]
     },
     "execution_count": 4,
     "metadata": {},
     "output_type": "execute_result"
    }
   ],
   "source": [
    "len (long_phrase)>len(short_phrase)"
   ]
  },
  {
   "cell_type": "markdown",
   "metadata": {},
   "source": [
    "**Задание 2**. Дано значение объема файла в байтах. Напишите перевод этого значения в мегабайты в формате: \"*Объем файла равен 213.68Mb*\""
   ]
  },
  {
   "cell_type": "code",
   "execution_count": 18,
   "metadata": {},
   "outputs": [
    {
     "name": "stdout",
     "output_type": "stream",
     "text": [
      "Введите размер файла: 1048576\n",
      "Объем файла равен  1.0 Mb\n"
     ]
    }
   ],
   "source": [
    "file_size = int(input('Введите размер файла: '))\n",
    "print ('Объем файла равен ', file_size / 2**20, 'Mb')"
   ]
  },
  {
   "cell_type": "markdown",
   "metadata": {},
   "source": [
    "**Задание 3**. Разработать приложение для определения знака зодиака по дате рождения. Пример:\n",
    "\n",
    "Введите месяц: март\n",
    "\n",
    "Введите число: 6\n",
    "\n",
    "Вывод:\n",
    "Рыбы"
   ]
  },
  {
   "cell_type": "code",
   "execution_count": 2,
   "metadata": {},
   "outputs": [
    {
     "name": "stdout",
     "output_type": "stream",
     "text": [
      "Введите месяц: 7\n",
      "Введите день: 15\n",
      "Рак\n"
     ]
    }
   ],
   "source": [
    "mm = int(input('Введите месяц: '))\n",
    "dd = int(input('Введите день: '))\n",
    "\n",
    "if (mm == 1 and dd <=20) or (mm == 12 and dd >=22):\n",
    "    print('Козерог')\n",
    "elif (mm == 2 and dd <=18) or (mm == 1 and dd >=21):\n",
    "    print('Водолей')\n",
    "elif (mm == 3 and dd <=20) or (mm == 2 and dd >=19):\n",
    "    print('Рыбы')\n",
    "elif (mm == 4 and dd <=20) or (mm == 3 and dd >=21):\n",
    "    print('Овен')\n",
    "elif (mm == 5 and dd <=20) or (mm == 4 and dd >=21):\n",
    "    print('Телец')\n",
    "elif (mm == 6 and dd <=21) or (mm == 5 and dd >=21):\n",
    "    print('Близнецы')\n",
    "elif (mm == 7 and dd <=22) or (mm == 6 and dd >=22):\n",
    "    print('Рак')\n",
    "elif (mm == 8 and dd <=23) or (mm == 7 and dd >=23):\n",
    "    print('Лев')\n",
    "elif (mm == 9 and dd <=23) or (mm == 8 and dd >=24):\n",
    "    print('Дева')\n",
    "elif (mm == 10 and dd <=23) or (mm == 9 and dd >=24):\n",
    "    print('Весы')\n",
    "elif (mm == 11 and dd <=22) or (mm == 10 and dd >=24):\n",
    "    print('Скорпион')\n",
    "elif (mm == 12 and dd <=22) or (mm == 11 and dd >=23):\n",
    "    print('Стрелец')\n",
    "else: print('Вы указали неверную дату')\n"
   ]
  },
  {
   "cell_type": "markdown",
   "metadata": {},
   "source": [
    "**Задание 4**. Нужно разработать приложение для финансового планирования.\n",
    "Приложение учитывает сколько уходит на ипотеку, \"на жизнь\" и сколько нужно отложить на пенсию.\n",
    "Пользователь вводит:\n",
    "- заработанную плату в месяц.\n",
    "- сколько процентов от ЗП уходит на ипотеку.\n",
    "- сколько процентов от ЗП уходит \"на жизнь\".\n",
    "- сколько раз приходит премия в год.\n",
    "\n",
    "Остальная часть заработанной платы откладывается на пенсию.\n",
    "\n",
    "Также пользователю приходит премия в размере зарплаты, от которой половина уходит на отпуск, а вторая половина откладывается.\n",
    "\n",
    "Программа должна учитывать сколько премий было в год.\n",
    "\n",
    "Нужно вывести сколько денег тратит пользователь на ипотеку и сколько он накопит за год.\n",
    "\n",
    "Пример:\n",
    "\n",
    "Введите заработанную плату в месяц: 100000\n",
    "\n",
    "Введите сколько процентов уходит на ипотеку: 30\n",
    "\n",
    "Введите сколько процентов уходит на жизнь: 50\n",
    "\n",
    "Введите количество премий за год: 2\n",
    "\n",
    "Вывод:\n",
    "На ипотеку было потрачено: 360000 рублей\n",
    "Было накоплено: 340000 рублей"
   ]
  },
  {
   "cell_type": "code",
   "execution_count": 5,
   "metadata": {},
   "outputs": [
    {
     "name": "stdout",
     "output_type": "stream",
     "text": [
      "Введите зп в месяц: 100000\n",
      "Введите сколько процентов уходит на ипотеку: 30\n",
      "Введите сколько процентов уходит на жизнь: 50\n",
      "Введите количество премий за год: 2\n",
      "На ипотеку было потрачено:  360000.0 . Было накоплено:  339999.99999999994\n"
     ]
    }
   ],
   "source": [
    "salary = int(input('Введите зп в месяц: '))\n",
    "mortage = int(input('Введите сколько процентов уходит на ипотеку: '))/100\n",
    "life_expense = int(input('Введите сколько процентов уходит на жизнь: '))/100\n",
    "bonus = int(input('Введите количество премий за год: '))\n",
    "year_income = salary * 12 + salary * bonus\n",
    "\n",
    "mortage_exp = mortage * salary*12\n",
    "savings = bonus * salary* 0.5 + salary * (1 - mortage - life_expense) * 12\n",
    "print ('На ипотеку было потрачено: ', mortage_exp , '. Было накоплено: ', savings)\n"
   ]
  },
  {
   "cell_type": "markdown",
   "metadata": {},
   "source": [
    "# Доп. задание 1. Fizz and Buzz"
   ]
  },
  {
   "cell_type": "code",
   "execution_count": 8,
   "metadata": {},
   "outputs": [
    {
     "name": "stdout",
     "output_type": "stream",
     "text": [
      "Введите количество элементов: 3\n",
      "1\n",
      "2\n",
      "Fizz\n"
     ]
    }
   ],
   "source": [
    "number = 0    \n",
    "n = int(input('Введите количество элементов: '))\n",
    "while number < n:            \n",
    "    number = number + 1\n",
    "    if number % 3 == 0 and number % 5 == 0: \n",
    "        print('Fizz Buzz')\n",
    "    elif number % 3 == 0:\n",
    "        print ('Fizz')\n",
    "    elif number % 5 == 0:\n",
    "        print('Buzz')\n",
    "    else: print(number)\n",
    "\n",
    "    \n",
    " "
   ]
  },
  {
   "cell_type": "markdown",
   "metadata": {},
   "source": [
    "# Доп. задание 2. Периодичность сигнала"
   ]
  },
  {
   "cell_type": "code",
   "execution_count": 25,
   "metadata": {},
   "outputs": [],
   "source": [
    "signal = str(1011101110111011101110111011101110111011)\n",
    "\n",
    "i=3\n",
    "\n",
    "while i < len(signal):\n",
    "    signal_int=int(signal[0:i])\n",
    "    if int(signal) % signal_int == 0: \n",
    "        print (signal[0:i])\n",
    "        break\n",
    "    else: i=i+1\n",
    "        \n"
   ]
  },
  {
   "cell_type": "markdown",
   "metadata": {},
   "source": [
    "# Доп. задание 3. Середина слова"
   ]
  },
  {
   "cell_type": "code",
   "execution_count": 19,
   "metadata": {},
   "outputs": [
    {
     "name": "stdout",
     "output_type": "stream",
     "text": [
      "Test\n",
      "e s\n"
     ]
    }
   ],
   "source": [
    "word = input()\n",
    "\n",
    "if len(word) % 2 == 0:\n",
    "    print(word[len(word)//2-1], word[len(word)//2])\n",
    "else: \n",
    "    print(word[len(word)//2])\n"
   ]
  }
 ],
 "metadata": {
  "kernelspec": {
   "display_name": "Python 3",
   "language": "python",
   "name": "python3"
  },
  "language_info": {
   "codemirror_mode": {
    "name": "ipython",
    "version": 3
   },
   "file_extension": ".py",
   "mimetype": "text/x-python",
   "name": "python",
   "nbconvert_exporter": "python",
   "pygments_lexer": "ipython3",
   "version": "3.7.4"
  }
 },
 "nbformat": 4,
 "nbformat_minor": 2
}
